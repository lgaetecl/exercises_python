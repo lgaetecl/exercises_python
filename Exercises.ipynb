{
  "nbformat": 4,
  "nbformat_minor": 0,
  "metadata": {
    "colab": {
      "name": "Pancho - Ejercicio 3.ipynb",
      "provenance": [],
      "collapsed_sections": [],
      "authorship_tag": "ABX9TyOMjdBFPj+jK2yCpbPj0eFo",
      "include_colab_link": true
    },
    "kernelspec": {
      "name": "python3",
      "display_name": "Python 3"
    },
    "language_info": {
      "name": "python"
    }
  },
  "cells": [
    {
      "cell_type": "markdown",
      "metadata": {
        "id": "view-in-github",
        "colab_type": "text"
      },
      "source": [
        "<a href=\"https://colab.research.google.com/github/lgaetecl/exercises_python/blob/main/Exercises.ipynb\" target=\"_parent\"><img src=\"https://colab.research.google.com/assets/colab-badge.svg\" alt=\"Open In Colab\"/></a>"
      ]
    },
    {
      "cell_type": "markdown",
      "source": [
        "En una plaza de peaje se maneja la siguiente información:\t\n",
        "Patente vehículo (debe tener sólo 6 caracteres y estos deben ser sólo letras o dígitos), Tipo de Vehículo (Automóvil, Camioneta, Moto o Suv en forma aleatorio), año vehículo (1980-2022), Sexo del conductor (Femenino o Masculino aleatorio)\n",
        "Se sabe que el valor del peaje depende de la siguiente tabla:\n",
        "\n",
        "Tipo Vehículo|Valor peaje\n",
        "---|---\n",
        "Automóvil|2000\n",
        "Camioneta|2400\n",
        "Moto|900\n",
        "Suv|2500\n",
        "\n",
        "\n",
        "Se pide ingresar la información anterior de N vehículos. Validar donde corresponda y luego mostrar:\n",
        "- Patente, tipo de vehículo, sexo y Valor a pagar por cada vehículo\n",
        "- Total recaudado en camionetas del año 2019 o 2020 \n",
        "- Promedio de los años de las Suv\n",
        "- Cantidad de mujeres en moto\n",
        "- Tipo de vehículo que más pasó por el pórtico\n"
      ],
      "metadata": {
        "id": "CRQjlJ2fhMz6"
      }
    },
    {
      "cell_type": "code",
      "source": [
        "import re\n",
        "import operator\n",
        "import string\n",
        "import random"
      ],
      "metadata": {
        "id": "86ZqZxH_hNFF"
      },
      "execution_count": 1,
      "outputs": []
    },
    {
      "cell_type": "code",
      "source": [
        "def isValidPatent(patent):\n",
        "  if not (len(patent) == 6):\n",
        "    return False\n",
        "  if not re.search(\"^\\w+$\", patent):\n",
        "    return False\n",
        "  return True"
      ],
      "metadata": {
        "id": "qcAyT0OPiBWg"
      },
      "execution_count": 2,
      "outputs": []
    },
    {
      "cell_type": "code",
      "execution_count": 3,
      "metadata": {
        "id": "5tjKhWOkhL0G"
      },
      "outputs": [],
      "source": [
        "def isValidVehicleType(vehicleType):\n",
        "  validVehicleType = [\"Automóvil\", \"Camioneta\", \"Moto\", \"Suv\"]\n",
        "  if not vehicleType in validVehicleType:\n",
        "    return False\n",
        "  return True"
      ]
    },
    {
      "cell_type": "code",
      "source": [
        "def isValidSex(sex):\n",
        "  validSex = [\"Femenino\", \"Masculino\"]\n",
        "  if not sex in validSex:\n",
        "    return False\n",
        "  return True"
      ],
      "metadata": {
        "id": "Ta6XUngmljWw"
      },
      "execution_count": 4,
      "outputs": []
    },
    {
      "cell_type": "code",
      "source": [
        "def isValidYear(year):\n",
        "  try:\n",
        "    yearInt = int(year)\n",
        "    if yearInt < 1980 and yearInt > 2022:\n",
        "      return False\n",
        "    return True\n",
        "  except ValueError:\n",
        "    return False"
      ],
      "metadata": {
        "id": "9Wmf-6D-l2wM"
      },
      "execution_count": 5,
      "outputs": []
    },
    {
      "cell_type": "code",
      "source": [
        "carsList = []"
      ],
      "metadata": {
        "id": "sZb_AfMOmmMF"
      },
      "execution_count": 6,
      "outputs": []
    },
    {
      "cell_type": "code",
      "source": [
        "def createCar(patent, vehicleType, sex, year):\n",
        "  car = {\n",
        "      \"patent\": patent,\n",
        "      \"vehicleType\": vehicleType,\n",
        "      \"sex\": sex,\n",
        "      \"year\": year\n",
        "  }\n",
        "  carsList.append(car)"
      ],
      "metadata": {
        "id": "6rJKAdoGnLZK"
      },
      "execution_count": 7,
      "outputs": []
    },
    {
      "cell_type": "code",
      "source": [
        "def generateRandomPatent():\n",
        "  letters = string.ascii_uppercase\n",
        "  numbers = string.digits\n",
        "  return ( ''.join(random.choice(letters) for i in range(3)) + ''.join(random.choice(letters) for i in range(3)) )"
      ],
      "metadata": {
        "id": "_zO08wynuque"
      },
      "execution_count": 8,
      "outputs": []
    },
    {
      "cell_type": "code",
      "source": [
        "def generateRandomVehicleType():\n",
        "  vehicleType = [\"Automóvil\", \"Camioneta\", \"Moto\", \"Suv\"]\n",
        "  return random.choice(vehicleType)"
      ],
      "metadata": {
        "id": "Leh8Qeu9vWBJ"
      },
      "execution_count": 9,
      "outputs": []
    },
    {
      "cell_type": "code",
      "source": [
        "def generateRandomSex():\n",
        "  sex = [\"Femenino\", \"Masculino\"]\n",
        "  return random.choice(sex)"
      ],
      "metadata": {
        "id": "eQJTz7kKvtaa"
      },
      "execution_count": 10,
      "outputs": []
    },
    {
      "cell_type": "code",
      "source": [
        "def generateRandomYear():\n",
        "  return random.randint(1980, 2022)"
      ],
      "metadata": {
        "id": "w1I3GDLov1t5"
      },
      "execution_count": 11,
      "outputs": []
    },
    {
      "cell_type": "code",
      "source": [
        "def createRandomCar():\n",
        "  patent = generateRandomPatent()\n",
        "  vehicleType = generateRandomVehicleType()\n",
        "  sex = generateRandomSex()\n",
        "  year = generateRandomYear()\n",
        "\n",
        "  car = {\n",
        "      \"patent\": patent,\n",
        "      \"vehicleType\": vehicleType,\n",
        "      \"sex\": sex,\n",
        "      \"year\": year\n",
        "  }\n",
        "  carsList.append(car)\n"
      ],
      "metadata": {
        "id": "fIPjhfKHtHOF"
      },
      "execution_count": 12,
      "outputs": []
    },
    {
      "cell_type": "code",
      "source": [
        "def printCars():\n",
        "  for i in carsList:\n",
        "    print(\"patent = {0}\\t sex = {1}\\t year = {2}\\t vehicle type = {3}\".format(i[\"patent\"], i[\"sex\"], i[\"year\"], i[\"vehicleType\"]))"
      ],
      "metadata": {
        "id": "tQrSfP3moEbh"
      },
      "execution_count": 13,
      "outputs": []
    },
    {
      "cell_type": "code",
      "source": [
        "costPatent = {\n",
        "    \"Automóvil\" : 2000,\n",
        "    \"Camioneta\": 2400,\n",
        "    \"Moto\" : 900,\n",
        "    \"Suv\": 2500\n",
        "}\n",
        "\n",
        "def calculeTotalPatentRaised(vehicleType, year):\n",
        "  try:\n",
        "    total = 0\n",
        "    yearInt = int(year)\n",
        "    for i in carsList:\n",
        "      if i[\"vehicleType\"] == vehicleType and i[\"year\"] == year:\n",
        "        total+= costPatent[vehicleType]\n",
        "    return total   \n",
        "  except ValueError:\n",
        "    return 0"
      ],
      "metadata": {
        "id": "56bZbDTyou19"
      },
      "execution_count": 14,
      "outputs": []
    },
    {
      "cell_type": "code",
      "source": [
        "def averageYearCar(vehicleType):\n",
        "  averageYearCar = 0\n",
        "  count = 0\n",
        "  for i in carsList:\n",
        "    if i[\"vehicleType\"] == vehicleType:\n",
        "      averageYearCar+= i[\"year\"]\n",
        "      count+= 1\n",
        "  return averageYearCar / count"
      ],
      "metadata": {
        "id": "akK94gtYqael"
      },
      "execution_count": 15,
      "outputs": []
    },
    {
      "cell_type": "code",
      "source": [
        "def countSexAndVehicleType(sex, vehicleType):\n",
        "  count = 0\n",
        "  for i in carsList:\n",
        "    if i[\"sex\"] == sex and i[\"vehicleType\"] == vehicleType:\n",
        "      count+= 1\n",
        "  return 0"
      ],
      "metadata": {
        "id": "PX57F6YBrRXc"
      },
      "execution_count": 16,
      "outputs": []
    },
    {
      "cell_type": "code",
      "source": [
        "def mostPopularVehicleType():\n",
        "  countVehicleType = {\n",
        "    \"Automóvil\" : 0,\n",
        "    \"Camioneta\": 0,\n",
        "    \"Moto\" : 0,\n",
        "    \"Suv\": 0\n",
        "  }\n",
        "  for i in carsList:\n",
        "    if i[\"vehicleType\"] == \"Automóvil\":\n",
        "      countVehicleType[\"Automóvil\"]+= 1\n",
        "    elif i[\"vehicleType\"] == \"Camioneta\":\n",
        "      countVehicleType[\"Camioneta\"]+= 1\n",
        "    elif i[\"vehicleType\"] == \"Moto\":\n",
        "      countVehicleType[\"Moto\"]+= 1\n",
        "    elif i[\"vehicleType\"] == \"Suv\":\n",
        "      countVehicleType[\"Suv\"]+= 1\n",
        "\n",
        "  return max(countVehicleType.values())\n",
        "  "
      ],
      "metadata": {
        "id": "-vynhNX1rsaG"
      },
      "execution_count": 17,
      "outputs": []
    },
    {
      "cell_type": "code",
      "source": [
        "for _ in range(100):\n",
        "  createRandomCar()\n",
        "    "
      ],
      "metadata": {
        "id": "ak_1628Xwahd"
      },
      "execution_count": 18,
      "outputs": []
    },
    {
      "cell_type": "code",
      "source": [
        "if not createCar(\"ABC1234\", generateRandomVehicleType(), generateRandomSex(), 1990):\n",
        "  print (\"parametro de auto ingresado incorrectamente\")"
      ],
      "metadata": {
        "id": "LOG310qnvo8S",
        "outputId": "ec0f5f51-fdd6-4a23-bf75-2de0c07c3f50",
        "colab": {
          "base_uri": "https://localhost:8080/"
        }
      },
      "execution_count": 19,
      "outputs": [
        {
          "output_type": "stream",
          "name": "stdout",
          "text": [
            "parametro de auto ingresado incorrectamente\n"
          ]
        }
      ]
    },
    {
      "cell_type": "markdown",
      "source": [
        "Patente, tipo de vehículo, sexo y Valor a pagar por cada vehículo"
      ],
      "metadata": {
        "id": "evJiPpkhwTl-"
      }
    },
    {
      "cell_type": "code",
      "source": [
        "printCars()"
      ],
      "metadata": {
        "colab": {
          "base_uri": "https://localhost:8080/"
        },
        "id": "AVJIt2uSwYB1",
        "outputId": "d8a058dc-d086-46df-8ad8-7296ea1bbf63"
      },
      "execution_count": 20,
      "outputs": [
        {
          "output_type": "stream",
          "name": "stdout",
          "text": [
            "patent = SZPQFH\t sex = Masculino\t year = 2008\t vehicle type = Suv\n",
            "patent = MWJWWH\t sex = Femenino\t year = 2020\t vehicle type = Moto\n",
            "patent = YHJSDW\t sex = Femenino\t year = 1983\t vehicle type = Automóvil\n",
            "patent = NNSJWQ\t sex = Femenino\t year = 2003\t vehicle type = Camioneta\n",
            "patent = WEOUWZ\t sex = Masculino\t year = 1996\t vehicle type = Moto\n",
            "patent = IWPXES\t sex = Masculino\t year = 2022\t vehicle type = Automóvil\n",
            "patent = UYDUYA\t sex = Femenino\t year = 2018\t vehicle type = Automóvil\n",
            "patent = OFAFEE\t sex = Masculino\t year = 1990\t vehicle type = Moto\n",
            "patent = VLTVZA\t sex = Masculino\t year = 1987\t vehicle type = Automóvil\n",
            "patent = WKRCEJ\t sex = Femenino\t year = 2007\t vehicle type = Camioneta\n",
            "patent = AYPSWV\t sex = Femenino\t year = 2010\t vehicle type = Camioneta\n",
            "patent = DDDKSI\t sex = Femenino\t year = 1990\t vehicle type = Suv\n",
            "patent = NZVOFI\t sex = Masculino\t year = 1993\t vehicle type = Moto\n",
            "patent = SIJQLS\t sex = Masculino\t year = 2016\t vehicle type = Camioneta\n",
            "patent = UBBHCI\t sex = Masculino\t year = 1982\t vehicle type = Camioneta\n",
            "patent = VDJGBE\t sex = Femenino\t year = 2003\t vehicle type = Moto\n",
            "patent = VSUOBC\t sex = Masculino\t year = 2006\t vehicle type = Suv\n",
            "patent = LLLCIR\t sex = Femenino\t year = 1997\t vehicle type = Suv\n",
            "patent = ODGDNZ\t sex = Femenino\t year = 1997\t vehicle type = Automóvil\n",
            "patent = KZVNGO\t sex = Femenino\t year = 2018\t vehicle type = Moto\n",
            "patent = UTBTBR\t sex = Femenino\t year = 2015\t vehicle type = Automóvil\n",
            "patent = BLMZFJ\t sex = Femenino\t year = 2019\t vehicle type = Suv\n",
            "patent = JLUZVS\t sex = Masculino\t year = 2000\t vehicle type = Automóvil\n",
            "patent = TFSYMF\t sex = Femenino\t year = 2001\t vehicle type = Camioneta\n",
            "patent = NIMQOV\t sex = Femenino\t year = 1993\t vehicle type = Moto\n",
            "patent = CWVJXK\t sex = Masculino\t year = 1994\t vehicle type = Automóvil\n",
            "patent = IEZPYW\t sex = Femenino\t year = 2001\t vehicle type = Camioneta\n",
            "patent = WCMJFS\t sex = Femenino\t year = 1983\t vehicle type = Moto\n",
            "patent = WKELNP\t sex = Femenino\t year = 2018\t vehicle type = Automóvil\n",
            "patent = OTOTFN\t sex = Masculino\t year = 1985\t vehicle type = Moto\n",
            "patent = GTCRNJ\t sex = Masculino\t year = 1992\t vehicle type = Camioneta\n",
            "patent = GFZBRV\t sex = Masculino\t year = 2012\t vehicle type = Moto\n",
            "patent = LJHVTV\t sex = Femenino\t year = 1984\t vehicle type = Automóvil\n",
            "patent = SNLDYR\t sex = Femenino\t year = 2004\t vehicle type = Automóvil\n",
            "patent = VKZDEI\t sex = Femenino\t year = 2003\t vehicle type = Automóvil\n",
            "patent = JLJUSZ\t sex = Femenino\t year = 2006\t vehicle type = Camioneta\n",
            "patent = RXMKYY\t sex = Masculino\t year = 2014\t vehicle type = Camioneta\n",
            "patent = SNRZXQ\t sex = Femenino\t year = 1992\t vehicle type = Moto\n",
            "patent = BNPMEV\t sex = Femenino\t year = 1989\t vehicle type = Camioneta\n",
            "patent = RPUPRP\t sex = Masculino\t year = 1991\t vehicle type = Moto\n",
            "patent = HYNSMP\t sex = Femenino\t year = 2008\t vehicle type = Automóvil\n",
            "patent = OVAOCA\t sex = Femenino\t year = 1981\t vehicle type = Suv\n",
            "patent = WIUJQK\t sex = Femenino\t year = 2014\t vehicle type = Camioneta\n",
            "patent = GWJPQA\t sex = Masculino\t year = 2001\t vehicle type = Moto\n",
            "patent = AIZNPR\t sex = Masculino\t year = 1986\t vehicle type = Camioneta\n",
            "patent = WNVPRJ\t sex = Femenino\t year = 2017\t vehicle type = Moto\n",
            "patent = MZCZDX\t sex = Masculino\t year = 2018\t vehicle type = Camioneta\n",
            "patent = WGFYVX\t sex = Femenino\t year = 2015\t vehicle type = Camioneta\n",
            "patent = HMFYGC\t sex = Masculino\t year = 1988\t vehicle type = Automóvil\n",
            "patent = LTYCSD\t sex = Femenino\t year = 2012\t vehicle type = Automóvil\n",
            "patent = ANVXDW\t sex = Femenino\t year = 2020\t vehicle type = Suv\n",
            "patent = FSAQUI\t sex = Masculino\t year = 1988\t vehicle type = Suv\n",
            "patent = YTNWKM\t sex = Femenino\t year = 1996\t vehicle type = Automóvil\n",
            "patent = JNEZAL\t sex = Masculino\t year = 2009\t vehicle type = Moto\n",
            "patent = YWNLJF\t sex = Masculino\t year = 2021\t vehicle type = Camioneta\n",
            "patent = NQWQYM\t sex = Masculino\t year = 2003\t vehicle type = Automóvil\n",
            "patent = MBYUEQ\t sex = Femenino\t year = 1986\t vehicle type = Camioneta\n",
            "patent = OZNUFN\t sex = Femenino\t year = 2009\t vehicle type = Suv\n",
            "patent = PICUKY\t sex = Masculino\t year = 2020\t vehicle type = Automóvil\n",
            "patent = ZUWWHT\t sex = Femenino\t year = 2002\t vehicle type = Camioneta\n",
            "patent = LWXRJW\t sex = Femenino\t year = 1996\t vehicle type = Automóvil\n",
            "patent = OJXFDJ\t sex = Femenino\t year = 1988\t vehicle type = Camioneta\n",
            "patent = XSWACB\t sex = Masculino\t year = 1996\t vehicle type = Automóvil\n",
            "patent = UCNIWU\t sex = Masculino\t year = 1998\t vehicle type = Camioneta\n",
            "patent = WRMULQ\t sex = Masculino\t year = 2008\t vehicle type = Moto\n",
            "patent = SIGUHB\t sex = Masculino\t year = 1992\t vehicle type = Suv\n",
            "patent = HWYFNV\t sex = Masculino\t year = 1983\t vehicle type = Moto\n",
            "patent = TAKXTK\t sex = Femenino\t year = 1997\t vehicle type = Moto\n",
            "patent = WUWPMP\t sex = Femenino\t year = 1993\t vehicle type = Moto\n",
            "patent = NTSLUY\t sex = Femenino\t year = 2020\t vehicle type = Suv\n",
            "patent = EOXFOA\t sex = Masculino\t year = 1995\t vehicle type = Moto\n",
            "patent = BZMIPC\t sex = Masculino\t year = 1997\t vehicle type = Moto\n",
            "patent = DRXZUA\t sex = Masculino\t year = 2018\t vehicle type = Camioneta\n",
            "patent = LSVTWK\t sex = Femenino\t year = 2003\t vehicle type = Moto\n",
            "patent = NMQTDQ\t sex = Masculino\t year = 1984\t vehicle type = Automóvil\n",
            "patent = SQTQLK\t sex = Femenino\t year = 2012\t vehicle type = Camioneta\n",
            "patent = PJWPWQ\t sex = Masculino\t year = 2020\t vehicle type = Moto\n",
            "patent = AMZRPS\t sex = Femenino\t year = 2006\t vehicle type = Moto\n",
            "patent = BLNDID\t sex = Masculino\t year = 1993\t vehicle type = Automóvil\n",
            "patent = VHEVOQ\t sex = Masculino\t year = 1984\t vehicle type = Suv\n",
            "patent = CEJTWC\t sex = Masculino\t year = 2013\t vehicle type = Automóvil\n",
            "patent = ULSNTL\t sex = Masculino\t year = 2015\t vehicle type = Automóvil\n",
            "patent = NYLCAW\t sex = Masculino\t year = 1993\t vehicle type = Automóvil\n",
            "patent = LBRZVK\t sex = Masculino\t year = 1991\t vehicle type = Suv\n",
            "patent = HTBGUH\t sex = Masculino\t year = 1992\t vehicle type = Camioneta\n",
            "patent = RDCZPQ\t sex = Femenino\t year = 1998\t vehicle type = Automóvil\n",
            "patent = SLSWSI\t sex = Femenino\t year = 1987\t vehicle type = Moto\n",
            "patent = MKDYFG\t sex = Masculino\t year = 1993\t vehicle type = Moto\n",
            "patent = TEIVDF\t sex = Masculino\t year = 2011\t vehicle type = Moto\n",
            "patent = TFZLYM\t sex = Femenino\t year = 2014\t vehicle type = Moto\n",
            "patent = QSNVVF\t sex = Femenino\t year = 1990\t vehicle type = Automóvil\n",
            "patent = JYXTXW\t sex = Femenino\t year = 2003\t vehicle type = Suv\n",
            "patent = MIVLYI\t sex = Femenino\t year = 2004\t vehicle type = Camioneta\n",
            "patent = ZNJISJ\t sex = Femenino\t year = 1988\t vehicle type = Automóvil\n",
            "patent = YUIYJE\t sex = Femenino\t year = 1997\t vehicle type = Suv\n",
            "patent = JVPYEO\t sex = Masculino\t year = 2004\t vehicle type = Moto\n",
            "patent = QZSBDR\t sex = Femenino\t year = 2017\t vehicle type = Automóvil\n",
            "patent = CGHYQQ\t sex = Masculino\t year = 2022\t vehicle type = Camioneta\n",
            "patent = OGMKEI\t sex = Masculino\t year = 1980\t vehicle type = Suv\n",
            "patent = NAFIEE\t sex = Masculino\t year = 1983\t vehicle type = Automóvil\n",
            "patent = ABC1234\t sex = Masculino\t year = 1990\t vehicle type = Moto\n"
          ]
        }
      ]
    },
    {
      "cell_type": "markdown",
      "source": [
        "Total recaudado en camionetas del año 2019 o 2020 "
      ],
      "metadata": {
        "id": "NXoIKTbkw-hR"
      }
    },
    {
      "cell_type": "code",
      "source": [
        "print (calculeTotalPatentRaised(\"Camioneta\", 2019) + calculeTotalPatentRaised(\"Camioneta\", 2020))"
      ],
      "metadata": {
        "colab": {
          "base_uri": "https://localhost:8080/"
        },
        "id": "glLc5SUvw-p3",
        "outputId": "b20b5dd6-562c-4710-a600-10c3a5185fe2"
      },
      "execution_count": 21,
      "outputs": [
        {
          "output_type": "stream",
          "name": "stdout",
          "text": [
            "0\n"
          ]
        }
      ]
    },
    {
      "cell_type": "markdown",
      "source": [
        "Promedio de los años de las Suv"
      ],
      "metadata": {
        "id": "NPheyRKxw-yQ"
      }
    },
    {
      "cell_type": "code",
      "source": [
        "print (averageYearCar(\"Suv\"))"
      ],
      "metadata": {
        "colab": {
          "base_uri": "https://localhost:8080/"
        },
        "id": "RFe2B7a4w-7c",
        "outputId": "66ed274c-9403-4026-e946-fa247cbe921c"
      },
      "execution_count": 22,
      "outputs": [
        {
          "output_type": "stream",
          "name": "stdout",
          "text": [
            "1999.0625\n"
          ]
        }
      ]
    },
    {
      "cell_type": "markdown",
      "source": [
        "Cantidad de mujeres en moto"
      ],
      "metadata": {
        "id": "KyHYjf_ew_EC"
      }
    },
    {
      "cell_type": "code",
      "source": [
        "print (countSexAndVehicleType(\"Femenino\", \"Moto\"))"
      ],
      "metadata": {
        "colab": {
          "base_uri": "https://localhost:8080/"
        },
        "id": "_99pX6_Lw_Lr",
        "outputId": "ea623a56-4287-4b60-8395-f5be5f41bf62"
      },
      "execution_count": 23,
      "outputs": [
        {
          "output_type": "stream",
          "name": "stdout",
          "text": [
            "0\n"
          ]
        }
      ]
    },
    {
      "cell_type": "markdown",
      "source": [
        "Tipo de vehículo que más pasó por el pórtico"
      ],
      "metadata": {
        "id": "JoXtuwbbw_US"
      }
    },
    {
      "cell_type": "code",
      "source": [
        "print (mostPopularVehicleType())"
      ],
      "metadata": {
        "colab": {
          "base_uri": "https://localhost:8080/"
        },
        "id": "KwIApeuQw_d-",
        "outputId": "2a2605d7-a49f-455f-b1be-7b399d6141a6"
      },
      "execution_count": 24,
      "outputs": [
        {
          "output_type": "stream",
          "name": "stdout",
          "text": [
            "30\n"
          ]
        }
      ]
    }
  ]
}