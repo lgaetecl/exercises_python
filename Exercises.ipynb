{
  "nbformat": 4,
  "nbformat_minor": 0,
  "metadata": {
    "colab": {
      "name": "Pancho - Ejercicio 3.ipynb",
      "provenance": [],
      "collapsed_sections": [],
      "authorship_tag": "ABX9TyOSHgQakk+SQ36gwPs0xZCp",
      "include_colab_link": true
    },
    "kernelspec": {
      "name": "python3",
      "display_name": "Python 3"
    },
    "language_info": {
      "name": "python"
    }
  },
  "cells": [
    {
      "cell_type": "markdown",
      "metadata": {
        "id": "view-in-github",
        "colab_type": "text"
      },
      "source": [
        "<a href=\"https://colab.research.google.com/github/lgaetecl/exercises_python/blob/main/Exercises.ipynb\" target=\"_parent\"><img src=\"https://colab.research.google.com/assets/colab-badge.svg\" alt=\"Open In Colab\"/></a>"
      ]
    },
    {
      "cell_type": "markdown",
      "source": [
        "En una plaza de peaje se maneja la siguiente información:\t\n",
        "Patente vehículo (debe tener sólo 6 caracteres y estos deben ser sólo letras o dígitos), Tipo de Vehículo (Automóvil, Camioneta, Moto o Suv en forma aleatorio), año vehículo (1980-2022), Sexo del conductor (Femenino o Masculino aleatorio)\n",
        "Se sabe que el valor del peaje depende de la siguiente tabla:\n",
        "\n",
        "Tipo Vehículo|Valor peaje\n",
        "---|---\n",
        "Automóvil|2000\n",
        "Camioneta|2400\n",
        "Moto|900\n",
        "Suv|2500\n",
        "\n",
        "\n",
        "Se pide ingresar la información anterior de N vehículos. Validar donde corresponda y luego mostrar:\n",
        "- Patente, tipo de vehículo, sexo y Valor a pagar por cada vehículo\n",
        "- Total recaudado en camionetas del año 2019 o 2020 \n",
        "- Promedio de los años de las Suv\n",
        "- Cantidad de mujeres en moto\n",
        "- Tipo de vehículo que más pasó por el pórtico\n"
      ],
      "metadata": {
        "id": "CRQjlJ2fhMz6"
      }
    },
    {
      "cell_type": "code",
      "source": [
        "import re\n",
        "import operator\n",
        "import string\n",
        "import random"
      ],
      "metadata": {
        "id": "86ZqZxH_hNFF"
      },
      "execution_count": null,
      "outputs": []
    },
    {
      "cell_type": "code",
      "source": [
        "def isValidPatent(patent):\n",
        "  if not (len(patent) == 6):\n",
        "    return False\n",
        "  if not re.search(\"^\\w+$\", patent):\n",
        "    return False\n",
        "  return True"
      ],
      "metadata": {
        "id": "qcAyT0OPiBWg"
      },
      "execution_count": null,
      "outputs": []
    },
    {
      "cell_type": "code",
      "execution_count": null,
      "metadata": {
        "id": "5tjKhWOkhL0G"
      },
      "outputs": [],
      "source": [
        "def isValidVehicleType(vehicleType):\n",
        "  validVehicleType = [\"Automóvil\", \"Camioneta\", \"Moto\", \"Suv\"]\n",
        "  if not vehicleType in validVehicleType:\n",
        "    return False\n",
        "  return True"
      ]
    },
    {
      "cell_type": "code",
      "source": [
        "def isValidSex(sex):\n",
        "  validSex = [\"Femenino\", \"Masculino\"]\n",
        "  if not sex in validSex:\n",
        "    return False\n",
        "  return True"
      ],
      "metadata": {
        "id": "Ta6XUngmljWw"
      },
      "execution_count": null,
      "outputs": []
    },
    {
      "cell_type": "code",
      "source": [
        "def isValidYear(year):\n",
        "  try:\n",
        "    yearInt = int(year)\n",
        "    if yearInt < 1980 and yearInt > 2022:\n",
        "      return False\n",
        "    return True\n",
        "  except ValueError:\n",
        "    return False"
      ],
      "metadata": {
        "id": "9Wmf-6D-l2wM"
      },
      "execution_count": null,
      "outputs": []
    },
    {
      "cell_type": "code",
      "source": [
        "carsList = []"
      ],
      "metadata": {
        "id": "sZb_AfMOmmMF"
      },
      "execution_count": null,
      "outputs": []
    },
    {
      "cell_type": "code",
      "source": [
        "def createCar(patent, vehicleType, sex, year):\n",
        "  car = {\n",
        "      \"patent\": patent,\n",
        "      \"vehicleType\": vehicleType,\n",
        "      \"sex\": sex,\n",
        "      \"year\": year\n",
        "  }\n",
        "  carsList.append(car)"
      ],
      "metadata": {
        "id": "6rJKAdoGnLZK"
      },
      "execution_count": null,
      "outputs": []
    },
    {
      "cell_type": "code",
      "source": [
        "def generateRandomPatent():\n",
        "  letters = string.ascii_uppercase\n",
        "  numbers = string.digits\n",
        "  return ( ''.join(random.choice(letters) for i in range(3)) + ''.join(random.choice(letters) for i in range(3)) )"
      ],
      "metadata": {
        "id": "_zO08wynuque"
      },
      "execution_count": null,
      "outputs": []
    },
    {
      "cell_type": "code",
      "source": [
        "def generateRandomVehicleType():\n",
        "  vehicleType = [\"Automóvil\", \"Camioneta\", \"Moto\", \"Suv\"]\n",
        "  return random.choice(vehicleType)"
      ],
      "metadata": {
        "id": "Leh8Qeu9vWBJ"
      },
      "execution_count": null,
      "outputs": []
    },
    {
      "cell_type": "code",
      "source": [
        "def generateRandomSex():\n",
        "  sex = [\"Femenino\", \"Masculino\"]\n",
        "  return random.choice(sex)"
      ],
      "metadata": {
        "id": "eQJTz7kKvtaa"
      },
      "execution_count": null,
      "outputs": []
    },
    {
      "cell_type": "code",
      "source": [
        "def generateRandomYear():\n",
        "  return random.randint(1980, 2022)"
      ],
      "metadata": {
        "id": "w1I3GDLov1t5"
      },
      "execution_count": null,
      "outputs": []
    },
    {
      "cell_type": "code",
      "source": [
        "def createRandomCar():\n",
        "  patent = generateRandomPatent()\n",
        "  vehicleType = generateRandomVehicleType()\n",
        "  sex = generateRandomSex()\n",
        "  year = generateRandomYear()\n",
        "\n",
        "  car = {\n",
        "      \"patent\": patent,\n",
        "      \"vehicleType\": vehicleType,\n",
        "      \"sex\": sex,\n",
        "      \"year\": year\n",
        "  }\n",
        "  carsList.append(car)\n"
      ],
      "metadata": {
        "id": "fIPjhfKHtHOF"
      },
      "execution_count": null,
      "outputs": []
    },
    {
      "cell_type": "code",
      "source": [
        "def printCars():\n",
        "  for i in carsList:\n",
        "    print(\"patent = {0}\\t sex = {1}\\t year = {2}\\t vehicle type = {3}\".format(i[\"patent\"], i[\"sex\"], i[\"year\"], i[\"vehicleType\"]))"
      ],
      "metadata": {
        "id": "tQrSfP3moEbh"
      },
      "execution_count": null,
      "outputs": []
    },
    {
      "cell_type": "code",
      "source": [
        "costPatent = {\n",
        "    \"Automóvil\" : 2000,\n",
        "    \"Camioneta\": 2400,\n",
        "    \"Moto\" : 900,\n",
        "    \"Suv\": 2500\n",
        "}\n",
        "\n",
        "def calculeTotalPatentRaised(vehicleType, year):\n",
        "  try:\n",
        "    total = 0\n",
        "    yearInt = int(year)\n",
        "    for i in carsList:\n",
        "      if i[\"vehicleType\"] == vehicleType and i[\"year\"] == year:\n",
        "        total+= costPatent[vehicleType]\n",
        "    return total   \n",
        "  except ValueError:\n",
        "    return 0"
      ],
      "metadata": {
        "id": "56bZbDTyou19"
      },
      "execution_count": null,
      "outputs": []
    },
    {
      "cell_type": "code",
      "source": [
        "def averageYearCar(vehicleType):\n",
        "  averageYearCar = 0\n",
        "  count = 0\n",
        "  for i in carsList:\n",
        "    if i[\"vehicleType\"] == vehicleType:\n",
        "      averageYearCar+= i[\"year\"]\n",
        "      count+= 1\n",
        "  return averageYearCar / count"
      ],
      "metadata": {
        "id": "akK94gtYqael"
      },
      "execution_count": null,
      "outputs": []
    },
    {
      "cell_type": "code",
      "source": [
        "def countSexAndVehicleType(sex, vehicleType):\n",
        "  count = 0\n",
        "  for i in carsList:\n",
        "    if i[\"sex\"] == sex and i[\"vehicleType\"] == vehicleType:\n",
        "      count+= 1\n",
        "  return 0"
      ],
      "metadata": {
        "id": "PX57F6YBrRXc"
      },
      "execution_count": null,
      "outputs": []
    },
    {
      "cell_type": "code",
      "source": [
        "def mostPopularVehicleType():\n",
        "  countVehicleType = {\n",
        "    \"Automóvil\" : 0,\n",
        "    \"Camioneta\": 0,\n",
        "    \"Moto\" : 0,\n",
        "    \"Suv\": 0\n",
        "  }\n",
        "  for i in carsList:\n",
        "    if i[\"vehicleType\"] == \"Automóvil\":\n",
        "      countVehicleType[\"Automóvil\"]+= 1\n",
        "    elif i[\"vehicleType\"] == \"Camioneta\":\n",
        "      countVehicleType[\"Camioneta\"]+= 1\n",
        "    elif i[\"vehicleType\"] == \"Moto\":\n",
        "      countVehicleType[\"Moto\"]+= 1\n",
        "    elif i[\"vehicleType\"] == \"Suv\":\n",
        "      countVehicleType[\"Suv\"]+= 1\n",
        "\n",
        "  return max(countVehicleType.values())\n",
        "  "
      ],
      "metadata": {
        "id": "-vynhNX1rsaG"
      },
      "execution_count": null,
      "outputs": []
    },
    {
      "cell_type": "code",
      "source": [
        "for _ in range(100):\n",
        "  createRandomCar()\n",
        "    "
      ],
      "metadata": {
        "id": "ak_1628Xwahd"
      },
      "execution_count": null,
      "outputs": []
    },
    {
      "cell_type": "markdown",
      "source": [
        "Patente, tipo de vehículo, sexo y Valor a pagar por cada vehículo"
      ],
      "metadata": {
        "id": "evJiPpkhwTl-"
      }
    },
    {
      "cell_type": "code",
      "source": [
        "printCars()"
      ],
      "metadata": {
        "colab": {
          "base_uri": "https://localhost:8080/"
        },
        "id": "AVJIt2uSwYB1",
        "outputId": "49e36815-1289-4839-f4f2-f852f0493ec0"
      },
      "execution_count": null,
      "outputs": [
        {
          "output_type": "stream",
          "name": "stdout",
          "text": [
            "patent = QWXQBX\t sex = Masculino\t year = 1995\t vehicle type = Suv\n",
            "patent = FITHAM\t sex = Femenino\t year = 1994\t vehicle type = Automóvil\n",
            "patent = QXCJFV\t sex = Masculino\t year = 2017\t vehicle type = Automóvil\n",
            "patent = SXBYVA\t sex = Femenino\t year = 2003\t vehicle type = Camioneta\n",
            "patent = ZFXLYU\t sex = Femenino\t year = 2004\t vehicle type = Moto\n",
            "patent = KMDFGE\t sex = Masculino\t year = 1984\t vehicle type = Suv\n",
            "patent = ATDAAQ\t sex = Femenino\t year = 1985\t vehicle type = Moto\n",
            "patent = NZMLFO\t sex = Femenino\t year = 1987\t vehicle type = Suv\n",
            "patent = WLQDAQ\t sex = Masculino\t year = 2015\t vehicle type = Camioneta\n",
            "patent = CDAQQZ\t sex = Masculino\t year = 1994\t vehicle type = Automóvil\n",
            "patent = CWEODX\t sex = Masculino\t year = 2020\t vehicle type = Automóvil\n",
            "patent = ICIVYA\t sex = Masculino\t year = 2021\t vehicle type = Suv\n",
            "patent = HYPATR\t sex = Masculino\t year = 2002\t vehicle type = Moto\n",
            "patent = BVETRQ\t sex = Femenino\t year = 1982\t vehicle type = Moto\n",
            "patent = GSJXLK\t sex = Femenino\t year = 2000\t vehicle type = Automóvil\n",
            "patent = UMGXBG\t sex = Femenino\t year = 2019\t vehicle type = Suv\n",
            "patent = OGPBNL\t sex = Masculino\t year = 2000\t vehicle type = Automóvil\n",
            "patent = EUDTQM\t sex = Masculino\t year = 1994\t vehicle type = Camioneta\n",
            "patent = LYGXFV\t sex = Femenino\t year = 2014\t vehicle type = Automóvil\n",
            "patent = IWRXQX\t sex = Masculino\t year = 2007\t vehicle type = Camioneta\n",
            "patent = VRFIDZ\t sex = Masculino\t year = 2021\t vehicle type = Camioneta\n",
            "patent = GMSTOL\t sex = Femenino\t year = 2003\t vehicle type = Camioneta\n",
            "patent = JXHTPC\t sex = Masculino\t year = 1992\t vehicle type = Moto\n",
            "patent = ODAWEA\t sex = Femenino\t year = 2007\t vehicle type = Automóvil\n",
            "patent = KCNPUU\t sex = Femenino\t year = 2007\t vehicle type = Automóvil\n",
            "patent = BJDRVL\t sex = Masculino\t year = 1983\t vehicle type = Suv\n",
            "patent = KKYOQD\t sex = Masculino\t year = 2017\t vehicle type = Camioneta\n",
            "patent = WCZEAW\t sex = Masculino\t year = 1996\t vehicle type = Moto\n",
            "patent = DHNTVY\t sex = Femenino\t year = 1981\t vehicle type = Camioneta\n",
            "patent = VGOWED\t sex = Femenino\t year = 1994\t vehicle type = Suv\n",
            "patent = XTLILF\t sex = Femenino\t year = 2020\t vehicle type = Camioneta\n",
            "patent = CIXOUY\t sex = Masculino\t year = 2013\t vehicle type = Moto\n",
            "patent = LLNOMC\t sex = Masculino\t year = 2011\t vehicle type = Camioneta\n",
            "patent = DALLDR\t sex = Masculino\t year = 2008\t vehicle type = Automóvil\n",
            "patent = PNRDKH\t sex = Femenino\t year = 2021\t vehicle type = Automóvil\n",
            "patent = SDSTAE\t sex = Femenino\t year = 2001\t vehicle type = Moto\n",
            "patent = VOHYUX\t sex = Masculino\t year = 2020\t vehicle type = Moto\n",
            "patent = QSNMVU\t sex = Masculino\t year = 2018\t vehicle type = Moto\n",
            "patent = ZYRFPZ\t sex = Femenino\t year = 1999\t vehicle type = Suv\n",
            "patent = JRGIWE\t sex = Femenino\t year = 1996\t vehicle type = Suv\n",
            "patent = RNRTNR\t sex = Femenino\t year = 2017\t vehicle type = Suv\n",
            "patent = VGREFV\t sex = Femenino\t year = 1997\t vehicle type = Moto\n",
            "patent = BSJIZK\t sex = Femenino\t year = 1985\t vehicle type = Automóvil\n",
            "patent = CDKVDQ\t sex = Masculino\t year = 2017\t vehicle type = Automóvil\n",
            "patent = HWDHBH\t sex = Femenino\t year = 1995\t vehicle type = Moto\n",
            "patent = LPVIGO\t sex = Masculino\t year = 1995\t vehicle type = Suv\n",
            "patent = NTMOMZ\t sex = Masculino\t year = 1996\t vehicle type = Suv\n",
            "patent = AOJKUK\t sex = Femenino\t year = 1998\t vehicle type = Automóvil\n",
            "patent = QWTZWK\t sex = Femenino\t year = 1996\t vehicle type = Suv\n",
            "patent = TBQCQG\t sex = Femenino\t year = 1993\t vehicle type = Camioneta\n",
            "patent = AWYYAO\t sex = Masculino\t year = 2004\t vehicle type = Moto\n",
            "patent = RAMLZK\t sex = Femenino\t year = 1994\t vehicle type = Suv\n",
            "patent = CZQWMR\t sex = Femenino\t year = 1990\t vehicle type = Suv\n",
            "patent = KBSPLF\t sex = Femenino\t year = 1999\t vehicle type = Suv\n",
            "patent = HKECGA\t sex = Femenino\t year = 2018\t vehicle type = Camioneta\n",
            "patent = FVILRE\t sex = Femenino\t year = 2004\t vehicle type = Camioneta\n",
            "patent = QFTJVC\t sex = Masculino\t year = 1994\t vehicle type = Camioneta\n",
            "patent = NUDJGW\t sex = Femenino\t year = 2008\t vehicle type = Suv\n",
            "patent = XODVXW\t sex = Femenino\t year = 1987\t vehicle type = Suv\n",
            "patent = FPAPSH\t sex = Masculino\t year = 2001\t vehicle type = Suv\n",
            "patent = LWCRXU\t sex = Masculino\t year = 1996\t vehicle type = Suv\n",
            "patent = KNDMRI\t sex = Femenino\t year = 2015\t vehicle type = Moto\n",
            "patent = XSNEHQ\t sex = Femenino\t year = 2009\t vehicle type = Suv\n",
            "patent = DTUODM\t sex = Femenino\t year = 2005\t vehicle type = Automóvil\n",
            "patent = BANIGB\t sex = Masculino\t year = 1987\t vehicle type = Moto\n",
            "patent = EYXOPD\t sex = Femenino\t year = 1997\t vehicle type = Suv\n",
            "patent = OBOBWT\t sex = Masculino\t year = 2016\t vehicle type = Camioneta\n",
            "patent = PCOXZL\t sex = Masculino\t year = 1984\t vehicle type = Automóvil\n",
            "patent = EFACUS\t sex = Masculino\t year = 1988\t vehicle type = Moto\n",
            "patent = IWAMJE\t sex = Femenino\t year = 2008\t vehicle type = Camioneta\n",
            "patent = SSTZBY\t sex = Masculino\t year = 1994\t vehicle type = Automóvil\n",
            "patent = MQVBZH\t sex = Femenino\t year = 1984\t vehicle type = Moto\n",
            "patent = SKBRZP\t sex = Masculino\t year = 2003\t vehicle type = Moto\n",
            "patent = NJFHSW\t sex = Femenino\t year = 1992\t vehicle type = Moto\n",
            "patent = TRLWTR\t sex = Femenino\t year = 2009\t vehicle type = Automóvil\n",
            "patent = UTTGXD\t sex = Femenino\t year = 2020\t vehicle type = Moto\n",
            "patent = CKYEJD\t sex = Femenino\t year = 1989\t vehicle type = Suv\n",
            "patent = SAFADG\t sex = Masculino\t year = 2015\t vehicle type = Automóvil\n",
            "patent = RWOQME\t sex = Femenino\t year = 1985\t vehicle type = Moto\n",
            "patent = NVZHVD\t sex = Femenino\t year = 2015\t vehicle type = Suv\n",
            "patent = KFCSVP\t sex = Femenino\t year = 2014\t vehicle type = Camioneta\n",
            "patent = IBKCXS\t sex = Femenino\t year = 2009\t vehicle type = Automóvil\n",
            "patent = QEMMFH\t sex = Masculino\t year = 2019\t vehicle type = Moto\n",
            "patent = TRKQYG\t sex = Masculino\t year = 2003\t vehicle type = Moto\n",
            "patent = FQQVJU\t sex = Femenino\t year = 2015\t vehicle type = Camioneta\n",
            "patent = DZRFZJ\t sex = Femenino\t year = 1989\t vehicle type = Camioneta\n",
            "patent = ELOLMW\t sex = Femenino\t year = 2019\t vehicle type = Camioneta\n",
            "patent = FOXHGD\t sex = Femenino\t year = 1982\t vehicle type = Moto\n",
            "patent = DRYRKN\t sex = Femenino\t year = 1980\t vehicle type = Camioneta\n",
            "patent = VOYGME\t sex = Masculino\t year = 2008\t vehicle type = Camioneta\n",
            "patent = VOUXWL\t sex = Femenino\t year = 2022\t vehicle type = Moto\n",
            "patent = XZYZMH\t sex = Masculino\t year = 1995\t vehicle type = Camioneta\n",
            "patent = JAYNWW\t sex = Masculino\t year = 2007\t vehicle type = Automóvil\n",
            "patent = TLNQFY\t sex = Masculino\t year = 2007\t vehicle type = Moto\n",
            "patent = YFHHHL\t sex = Masculino\t year = 2003\t vehicle type = Automóvil\n",
            "patent = ASHVLL\t sex = Masculino\t year = 1981\t vehicle type = Camioneta\n",
            "patent = VQSSPZ\t sex = Masculino\t year = 1997\t vehicle type = Suv\n",
            "patent = UDWQQT\t sex = Femenino\t year = 1986\t vehicle type = Suv\n",
            "patent = WFTMQN\t sex = Femenino\t year = 1999\t vehicle type = Automóvil\n",
            "patent = MQWHWN\t sex = Masculino\t year = 2017\t vehicle type = Camioneta\n"
          ]
        }
      ]
    },
    {
      "cell_type": "markdown",
      "source": [
        "Total recaudado en camionetas del año 2019 o 2020 "
      ],
      "metadata": {
        "id": "NXoIKTbkw-hR"
      }
    },
    {
      "cell_type": "code",
      "source": [
        "print (calculeTotalPatentRaised(\"Camioneta\", 2019) + calculeTotalPatentRaised(\"Camioneta\", 2020))"
      ],
      "metadata": {
        "colab": {
          "base_uri": "https://localhost:8080/"
        },
        "id": "glLc5SUvw-p3",
        "outputId": "8d8d6216-80b6-452f-ac8e-fa197f4c0d6e"
      },
      "execution_count": null,
      "outputs": [
        {
          "output_type": "stream",
          "name": "stdout",
          "text": [
            "4800\n"
          ]
        }
      ]
    },
    {
      "cell_type": "markdown",
      "source": [
        "Promedio de los años de las Suv"
      ],
      "metadata": {
        "id": "NPheyRKxw-yQ"
      }
    },
    {
      "cell_type": "code",
      "source": [
        "print (averageYearCar(\"Suv\"))"
      ],
      "metadata": {
        "colab": {
          "base_uri": "https://localhost:8080/"
        },
        "id": "RFe2B7a4w-7c",
        "outputId": "d709ff7e-e4bc-45a9-b748-13eb96597326"
      },
      "execution_count": null,
      "outputs": [
        {
          "output_type": "stream",
          "name": "stdout",
          "text": [
            "1998.076923076923\n"
          ]
        }
      ]
    },
    {
      "cell_type": "markdown",
      "source": [
        "Cantidad de mujeres en moto"
      ],
      "metadata": {
        "id": "KyHYjf_ew_EC"
      }
    },
    {
      "cell_type": "code",
      "source": [
        "print (countSexAndVehicleType(\"Femenino\", \"Moto\"))"
      ],
      "metadata": {
        "colab": {
          "base_uri": "https://localhost:8080/"
        },
        "id": "_99pX6_Lw_Lr",
        "outputId": "657851d9-e851-45b5-dab5-60ceb89cacde"
      },
      "execution_count": null,
      "outputs": [
        {
          "output_type": "stream",
          "name": "stdout",
          "text": [
            "0\n"
          ]
        }
      ]
    },
    {
      "cell_type": "markdown",
      "source": [
        "Tipo de vehículo que más pasó por el pórtico"
      ],
      "metadata": {
        "id": "JoXtuwbbw_US"
      }
    },
    {
      "cell_type": "code",
      "source": [
        "print (mostPopularVehicleType())"
      ],
      "metadata": {
        "colab": {
          "base_uri": "https://localhost:8080/"
        },
        "id": "KwIApeuQw_d-",
        "outputId": "916516f7-cee2-4992-be66-a67a80f30b76"
      },
      "execution_count": null,
      "outputs": [
        {
          "output_type": "stream",
          "name": "stdout",
          "text": [
            "26\n"
          ]
        }
      ]
    }
  ]
}